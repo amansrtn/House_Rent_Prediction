{
 "cells": [
  {
   "cell_type": "code",
   "execution_count": 33,
   "id": "37bb4c79",
   "metadata": {},
   "outputs": [],
   "source": [
    "import pandas as pd\n",
    "data=pd.read_csv(\"USA_Housing.csv\")"
   ]
  },
  {
   "cell_type": "code",
   "execution_count": 34,
   "id": "782ce16b",
   "metadata": {},
   "outputs": [
    {
     "data": {
      "text/plain": [
       "pandas.core.frame.DataFrame"
      ]
     },
     "execution_count": 34,
     "metadata": {},
     "output_type": "execute_result"
    }
   ],
   "source": [
    "type(data)"
   ]
  },
  {
   "cell_type": "code",
   "execution_count": 35,
   "id": "4ce05d97",
   "metadata": {},
   "outputs": [
    {
     "data": {
      "text/html": [
       "<div>\n",
       "<style scoped>\n",
       "    .dataframe tbody tr th:only-of-type {\n",
       "        vertical-align: middle;\n",
       "    }\n",
       "\n",
       "    .dataframe tbody tr th {\n",
       "        vertical-align: top;\n",
       "    }\n",
       "\n",
       "    .dataframe thead th {\n",
       "        text-align: right;\n",
       "    }\n",
       "</style>\n",
       "<table border=\"1\" class=\"dataframe\">\n",
       "  <thead>\n",
       "    <tr style=\"text-align: right;\">\n",
       "      <th></th>\n",
       "      <th>Avg. Area Income</th>\n",
       "      <th>Avg. Area House Age</th>\n",
       "      <th>Avg. Area Number of Rooms</th>\n",
       "      <th>Avg. Area Number of Bedrooms</th>\n",
       "      <th>Area Population</th>\n",
       "      <th>Price</th>\n",
       "      <th>Address</th>\n",
       "    </tr>\n",
       "  </thead>\n",
       "  <tbody>\n",
       "    <tr>\n",
       "      <th>0</th>\n",
       "      <td>79545.458574</td>\n",
       "      <td>5.682861</td>\n",
       "      <td>7.009188</td>\n",
       "      <td>4.09</td>\n",
       "      <td>23086.800503</td>\n",
       "      <td>1.059034e+06</td>\n",
       "      <td>208 Michael Ferry Apt. 674\\nLaurabury, NE 3701...</td>\n",
       "    </tr>\n",
       "    <tr>\n",
       "      <th>1</th>\n",
       "      <td>79248.642455</td>\n",
       "      <td>6.002900</td>\n",
       "      <td>6.730821</td>\n",
       "      <td>3.09</td>\n",
       "      <td>40173.072174</td>\n",
       "      <td>1.505891e+06</td>\n",
       "      <td>188 Johnson Views Suite 079\\nLake Kathleen, CA...</td>\n",
       "    </tr>\n",
       "    <tr>\n",
       "      <th>2</th>\n",
       "      <td>61287.067179</td>\n",
       "      <td>5.865890</td>\n",
       "      <td>8.512727</td>\n",
       "      <td>5.13</td>\n",
       "      <td>36882.159400</td>\n",
       "      <td>1.058988e+06</td>\n",
       "      <td>9127 Elizabeth Stravenue\\nDanieltown, WI 06482...</td>\n",
       "    </tr>\n",
       "    <tr>\n",
       "      <th>3</th>\n",
       "      <td>63345.240046</td>\n",
       "      <td>7.188236</td>\n",
       "      <td>5.586729</td>\n",
       "      <td>3.26</td>\n",
       "      <td>34310.242831</td>\n",
       "      <td>1.260617e+06</td>\n",
       "      <td>USS Barnett\\nFPO AP 44820</td>\n",
       "    </tr>\n",
       "    <tr>\n",
       "      <th>4</th>\n",
       "      <td>59982.197226</td>\n",
       "      <td>5.040555</td>\n",
       "      <td>7.839388</td>\n",
       "      <td>4.23</td>\n",
       "      <td>26354.109472</td>\n",
       "      <td>6.309435e+05</td>\n",
       "      <td>USNS Raymond\\nFPO AE 09386</td>\n",
       "    </tr>\n",
       "    <tr>\n",
       "      <th>...</th>\n",
       "      <td>...</td>\n",
       "      <td>...</td>\n",
       "      <td>...</td>\n",
       "      <td>...</td>\n",
       "      <td>...</td>\n",
       "      <td>...</td>\n",
       "      <td>...</td>\n",
       "    </tr>\n",
       "    <tr>\n",
       "      <th>4995</th>\n",
       "      <td>60567.944140</td>\n",
       "      <td>7.830362</td>\n",
       "      <td>6.137356</td>\n",
       "      <td>3.46</td>\n",
       "      <td>22837.361035</td>\n",
       "      <td>1.060194e+06</td>\n",
       "      <td>USNS Williams\\nFPO AP 30153-7653</td>\n",
       "    </tr>\n",
       "    <tr>\n",
       "      <th>4996</th>\n",
       "      <td>78491.275435</td>\n",
       "      <td>6.999135</td>\n",
       "      <td>6.576763</td>\n",
       "      <td>4.02</td>\n",
       "      <td>25616.115489</td>\n",
       "      <td>1.482618e+06</td>\n",
       "      <td>PSC 9258, Box 8489\\nAPO AA 42991-3352</td>\n",
       "    </tr>\n",
       "    <tr>\n",
       "      <th>4997</th>\n",
       "      <td>63390.686886</td>\n",
       "      <td>7.250591</td>\n",
       "      <td>4.805081</td>\n",
       "      <td>2.13</td>\n",
       "      <td>33266.145490</td>\n",
       "      <td>1.030730e+06</td>\n",
       "      <td>4215 Tracy Garden Suite 076\\nJoshualand, VA 01...</td>\n",
       "    </tr>\n",
       "    <tr>\n",
       "      <th>4998</th>\n",
       "      <td>68001.331235</td>\n",
       "      <td>5.534388</td>\n",
       "      <td>7.130144</td>\n",
       "      <td>5.44</td>\n",
       "      <td>42625.620156</td>\n",
       "      <td>1.198657e+06</td>\n",
       "      <td>USS Wallace\\nFPO AE 73316</td>\n",
       "    </tr>\n",
       "    <tr>\n",
       "      <th>4999</th>\n",
       "      <td>65510.581804</td>\n",
       "      <td>5.992305</td>\n",
       "      <td>6.792336</td>\n",
       "      <td>4.07</td>\n",
       "      <td>46501.283803</td>\n",
       "      <td>1.298950e+06</td>\n",
       "      <td>37778 George Ridges Apt. 509\\nEast Holly, NV 2...</td>\n",
       "    </tr>\n",
       "  </tbody>\n",
       "</table>\n",
       "<p>5000 rows × 7 columns</p>\n",
       "</div>"
      ],
      "text/plain": [
       "      Avg. Area Income  Avg. Area House Age  Avg. Area Number of Rooms  \\\n",
       "0         79545.458574             5.682861                   7.009188   \n",
       "1         79248.642455             6.002900                   6.730821   \n",
       "2         61287.067179             5.865890                   8.512727   \n",
       "3         63345.240046             7.188236                   5.586729   \n",
       "4         59982.197226             5.040555                   7.839388   \n",
       "...                ...                  ...                        ...   \n",
       "4995      60567.944140             7.830362                   6.137356   \n",
       "4996      78491.275435             6.999135                   6.576763   \n",
       "4997      63390.686886             7.250591                   4.805081   \n",
       "4998      68001.331235             5.534388                   7.130144   \n",
       "4999      65510.581804             5.992305                   6.792336   \n",
       "\n",
       "      Avg. Area Number of Bedrooms  Area Population         Price  \\\n",
       "0                             4.09     23086.800503  1.059034e+06   \n",
       "1                             3.09     40173.072174  1.505891e+06   \n",
       "2                             5.13     36882.159400  1.058988e+06   \n",
       "3                             3.26     34310.242831  1.260617e+06   \n",
       "4                             4.23     26354.109472  6.309435e+05   \n",
       "...                            ...              ...           ...   \n",
       "4995                          3.46     22837.361035  1.060194e+06   \n",
       "4996                          4.02     25616.115489  1.482618e+06   \n",
       "4997                          2.13     33266.145490  1.030730e+06   \n",
       "4998                          5.44     42625.620156  1.198657e+06   \n",
       "4999                          4.07     46501.283803  1.298950e+06   \n",
       "\n",
       "                                                Address  \n",
       "0     208 Michael Ferry Apt. 674\\nLaurabury, NE 3701...  \n",
       "1     188 Johnson Views Suite 079\\nLake Kathleen, CA...  \n",
       "2     9127 Elizabeth Stravenue\\nDanieltown, WI 06482...  \n",
       "3                             USS Barnett\\nFPO AP 44820  \n",
       "4                            USNS Raymond\\nFPO AE 09386  \n",
       "...                                                 ...  \n",
       "4995                   USNS Williams\\nFPO AP 30153-7653  \n",
       "4996              PSC 9258, Box 8489\\nAPO AA 42991-3352  \n",
       "4997  4215 Tracy Garden Suite 076\\nJoshualand, VA 01...  \n",
       "4998                          USS Wallace\\nFPO AE 73316  \n",
       "4999  37778 George Ridges Apt. 509\\nEast Holly, NV 2...  \n",
       "\n",
       "[5000 rows x 7 columns]"
      ]
     },
     "execution_count": 35,
     "metadata": {},
     "output_type": "execute_result"
    }
   ],
   "source": [
    "data"
   ]
  },
  {
   "cell_type": "code",
   "execution_count": 36,
   "id": "792d815d",
   "metadata": {},
   "outputs": [],
   "source": [
    "X = data[['Avg. Area Income', 'Avg. Area House Age', 'Avg. Area Number of Rooms',\n",
    "               'Avg. Area Number of Bedrooms', 'Area Population']]"
   ]
  },
  {
   "cell_type": "code",
   "execution_count": 37,
   "id": "83884c07",
   "metadata": {},
   "outputs": [
    {
     "data": {
      "text/html": [
       "<div>\n",
       "<style scoped>\n",
       "    .dataframe tbody tr th:only-of-type {\n",
       "        vertical-align: middle;\n",
       "    }\n",
       "\n",
       "    .dataframe tbody tr th {\n",
       "        vertical-align: top;\n",
       "    }\n",
       "\n",
       "    .dataframe thead th {\n",
       "        text-align: right;\n",
       "    }\n",
       "</style>\n",
       "<table border=\"1\" class=\"dataframe\">\n",
       "  <thead>\n",
       "    <tr style=\"text-align: right;\">\n",
       "      <th></th>\n",
       "      <th>Avg. Area Income</th>\n",
       "      <th>Avg. Area House Age</th>\n",
       "      <th>Avg. Area Number of Rooms</th>\n",
       "      <th>Avg. Area Number of Bedrooms</th>\n",
       "      <th>Area Population</th>\n",
       "    </tr>\n",
       "  </thead>\n",
       "  <tbody>\n",
       "    <tr>\n",
       "      <th>0</th>\n",
       "      <td>79545.458574</td>\n",
       "      <td>5.682861</td>\n",
       "      <td>7.009188</td>\n",
       "      <td>4.09</td>\n",
       "      <td>23086.800503</td>\n",
       "    </tr>\n",
       "    <tr>\n",
       "      <th>1</th>\n",
       "      <td>79248.642455</td>\n",
       "      <td>6.002900</td>\n",
       "      <td>6.730821</td>\n",
       "      <td>3.09</td>\n",
       "      <td>40173.072174</td>\n",
       "    </tr>\n",
       "    <tr>\n",
       "      <th>2</th>\n",
       "      <td>61287.067179</td>\n",
       "      <td>5.865890</td>\n",
       "      <td>8.512727</td>\n",
       "      <td>5.13</td>\n",
       "      <td>36882.159400</td>\n",
       "    </tr>\n",
       "    <tr>\n",
       "      <th>3</th>\n",
       "      <td>63345.240046</td>\n",
       "      <td>7.188236</td>\n",
       "      <td>5.586729</td>\n",
       "      <td>3.26</td>\n",
       "      <td>34310.242831</td>\n",
       "    </tr>\n",
       "    <tr>\n",
       "      <th>4</th>\n",
       "      <td>59982.197226</td>\n",
       "      <td>5.040555</td>\n",
       "      <td>7.839388</td>\n",
       "      <td>4.23</td>\n",
       "      <td>26354.109472</td>\n",
       "    </tr>\n",
       "    <tr>\n",
       "      <th>...</th>\n",
       "      <td>...</td>\n",
       "      <td>...</td>\n",
       "      <td>...</td>\n",
       "      <td>...</td>\n",
       "      <td>...</td>\n",
       "    </tr>\n",
       "    <tr>\n",
       "      <th>4995</th>\n",
       "      <td>60567.944140</td>\n",
       "      <td>7.830362</td>\n",
       "      <td>6.137356</td>\n",
       "      <td>3.46</td>\n",
       "      <td>22837.361035</td>\n",
       "    </tr>\n",
       "    <tr>\n",
       "      <th>4996</th>\n",
       "      <td>78491.275435</td>\n",
       "      <td>6.999135</td>\n",
       "      <td>6.576763</td>\n",
       "      <td>4.02</td>\n",
       "      <td>25616.115489</td>\n",
       "    </tr>\n",
       "    <tr>\n",
       "      <th>4997</th>\n",
       "      <td>63390.686886</td>\n",
       "      <td>7.250591</td>\n",
       "      <td>4.805081</td>\n",
       "      <td>2.13</td>\n",
       "      <td>33266.145490</td>\n",
       "    </tr>\n",
       "    <tr>\n",
       "      <th>4998</th>\n",
       "      <td>68001.331235</td>\n",
       "      <td>5.534388</td>\n",
       "      <td>7.130144</td>\n",
       "      <td>5.44</td>\n",
       "      <td>42625.620156</td>\n",
       "    </tr>\n",
       "    <tr>\n",
       "      <th>4999</th>\n",
       "      <td>65510.581804</td>\n",
       "      <td>5.992305</td>\n",
       "      <td>6.792336</td>\n",
       "      <td>4.07</td>\n",
       "      <td>46501.283803</td>\n",
       "    </tr>\n",
       "  </tbody>\n",
       "</table>\n",
       "<p>5000 rows × 5 columns</p>\n",
       "</div>"
      ],
      "text/plain": [
       "      Avg. Area Income  Avg. Area House Age  Avg. Area Number of Rooms  \\\n",
       "0         79545.458574             5.682861                   7.009188   \n",
       "1         79248.642455             6.002900                   6.730821   \n",
       "2         61287.067179             5.865890                   8.512727   \n",
       "3         63345.240046             7.188236                   5.586729   \n",
       "4         59982.197226             5.040555                   7.839388   \n",
       "...                ...                  ...                        ...   \n",
       "4995      60567.944140             7.830362                   6.137356   \n",
       "4996      78491.275435             6.999135                   6.576763   \n",
       "4997      63390.686886             7.250591                   4.805081   \n",
       "4998      68001.331235             5.534388                   7.130144   \n",
       "4999      65510.581804             5.992305                   6.792336   \n",
       "\n",
       "      Avg. Area Number of Bedrooms  Area Population  \n",
       "0                             4.09     23086.800503  \n",
       "1                             3.09     40173.072174  \n",
       "2                             5.13     36882.159400  \n",
       "3                             3.26     34310.242831  \n",
       "4                             4.23     26354.109472  \n",
       "...                            ...              ...  \n",
       "4995                          3.46     22837.361035  \n",
       "4996                          4.02     25616.115489  \n",
       "4997                          2.13     33266.145490  \n",
       "4998                          5.44     42625.620156  \n",
       "4999                          4.07     46501.283803  \n",
       "\n",
       "[5000 rows x 5 columns]"
      ]
     },
     "execution_count": 37,
     "metadata": {},
     "output_type": "execute_result"
    }
   ],
   "source": [
    "X"
   ]
  },
  {
   "cell_type": "code",
   "execution_count": 38,
   "id": "ba1dd122",
   "metadata": {},
   "outputs": [],
   "source": [
    "Y = data['Price']"
   ]
  },
  {
   "cell_type": "code",
   "execution_count": 39,
   "id": "c167d78e",
   "metadata": {},
   "outputs": [
    {
     "data": {
      "text/plain": [
       "0       1.059034e+06\n",
       "1       1.505891e+06\n",
       "2       1.058988e+06\n",
       "3       1.260617e+06\n",
       "4       6.309435e+05\n",
       "            ...     \n",
       "4995    1.060194e+06\n",
       "4996    1.482618e+06\n",
       "4997    1.030730e+06\n",
       "4998    1.198657e+06\n",
       "4999    1.298950e+06\n",
       "Name: Price, Length: 5000, dtype: float64"
      ]
     },
     "execution_count": 39,
     "metadata": {},
     "output_type": "execute_result"
    }
   ],
   "source": [
    "Y"
   ]
  },
  {
   "cell_type": "code",
   "execution_count": 40,
   "id": "4f3d38a3",
   "metadata": {},
   "outputs": [],
   "source": [
    "from sklearn.model_selection import train_test_split\n",
    "X_train,X_test,Y_train,Y_test=train_test_split(X,Y,test_size=0.33)"
   ]
  },
  {
   "cell_type": "code",
   "execution_count": 41,
   "id": "d67f7d60",
   "metadata": {},
   "outputs": [],
   "source": [
    "N,D=X_train.shape"
   ]
  },
  {
   "cell_type": "code",
   "execution_count": 42,
   "id": "d89b0e8b",
   "metadata": {},
   "outputs": [
    {
     "data": {
      "text/plain": [
       "5"
      ]
     },
     "execution_count": 42,
     "metadata": {},
     "output_type": "execute_result"
    }
   ],
   "source": [
    "D"
   ]
  },
  {
   "cell_type": "code",
   "execution_count": 43,
   "id": "a261dabe",
   "metadata": {},
   "outputs": [],
   "source": [
    "from sklearn.preprocessing import StandardScaler\n",
    "scaler=StandardScaler()\n",
    "X_train=scaler.fit_transform(X_train)\n",
    "X_test=scaler.transform(X_test)"
   ]
  },
  {
   "cell_type": "code",
   "execution_count": 44,
   "id": "0fb6fba9",
   "metadata": {},
   "outputs": [],
   "source": [
    "import tensorflow as tf\n",
    "\n",
    "model = tf.keras.models.Sequential([\n",
    "    tf.keras.layers.Input(shape=(D)),\n",
    "    tf.keras.layers.Dense(1)\n",
    "])"
   ]
  },
  {
   "cell_type": "code",
   "execution_count": 45,
   "id": "0237cf7a",
   "metadata": {},
   "outputs": [],
   "source": [
    "model.compile(optimizer=tf.keras.optimizers.SGD(0.001,0.9),loss=\"mean_squared_error\",metrics=[\"mae\"])"
   ]
  },
  {
   "cell_type": "code",
   "execution_count": 46,
   "id": "dc790d7b",
   "metadata": {},
   "outputs": [
    {
     "name": "stdout",
     "output_type": "stream",
     "text": [
      "Epoch 1/50\n",
      "105/105 [==============================] - 1s 4ms/step - loss: 473416040448.0000 - mae: 551943.6250 - val_loss: 23717552128.0000 - val_mae: 126614.7656\n",
      "Epoch 2/50\n",
      "105/105 [==============================] - 0s 3ms/step - loss: 12780560384.0000 - mae: 90737.1875 - val_loss: 10338652160.0000 - val_mae: 81899.2578\n",
      "Epoch 3/50\n",
      "105/105 [==============================] - 0s 3ms/step - loss: 10318163968.0000 - mae: 81826.9609 - val_loss: 10193505280.0000 - val_mae: 81329.0938\n",
      "Epoch 4/50\n",
      "105/105 [==============================] - 0s 3ms/step - loss: 10282747904.0000 - mae: 81639.2500 - val_loss: 10200206336.0000 - val_mae: 81289.1953\n",
      "Epoch 5/50\n",
      "105/105 [==============================] - 0s 2ms/step - loss: 10298808320.0000 - mae: 81678.8438 - val_loss: 10158560256.0000 - val_mae: 81170.8516\n",
      "Epoch 6/50\n",
      "105/105 [==============================] - 0s 3ms/step - loss: 10286237696.0000 - mae: 81672.2500 - val_loss: 10155820032.0000 - val_mae: 81189.1562\n",
      "Epoch 7/50\n",
      "105/105 [==============================] - 0s 2ms/step - loss: 10288375808.0000 - mae: 81594.5000 - val_loss: 10157064192.0000 - val_mae: 81134.2031\n",
      "Epoch 8/50\n",
      "105/105 [==============================] - 0s 3ms/step - loss: 10283312128.0000 - mae: 81638.8359 - val_loss: 10145473536.0000 - val_mae: 81105.9766\n",
      "Epoch 9/50\n",
      "105/105 [==============================] - 0s 3ms/step - loss: 10294710272.0000 - mae: 81710.1875 - val_loss: 10154767360.0000 - val_mae: 81135.2812\n",
      "Epoch 10/50\n",
      "105/105 [==============================] - 0s 3ms/step - loss: 10289320960.0000 - mae: 81665.5000 - val_loss: 10165286912.0000 - val_mae: 81191.1641\n",
      "Epoch 11/50\n",
      "105/105 [==============================] - 0s 3ms/step - loss: 10290838528.0000 - mae: 81643.3750 - val_loss: 10162622464.0000 - val_mae: 81162.0312\n",
      "Epoch 12/50\n",
      "105/105 [==============================] - 0s 3ms/step - loss: 10284852224.0000 - mae: 81597.2031 - val_loss: 10153291776.0000 - val_mae: 81140.4844\n",
      "Epoch 13/50\n",
      "105/105 [==============================] - 0s 3ms/step - loss: 10278970368.0000 - mae: 81646.5000 - val_loss: 10175176704.0000 - val_mae: 81220.0938\n",
      "Epoch 14/50\n",
      "105/105 [==============================] - 0s 3ms/step - loss: 10294642688.0000 - mae: 81665.6641 - val_loss: 10158710784.0000 - val_mae: 81157.1094\n",
      "Epoch 15/50\n",
      "105/105 [==============================] - 0s 2ms/step - loss: 10286529536.0000 - mae: 81608.7188 - val_loss: 10161020928.0000 - val_mae: 81184.9219\n",
      "Epoch 16/50\n",
      "105/105 [==============================] - 0s 3ms/step - loss: 10292211712.0000 - mae: 81682.8359 - val_loss: 10172328960.0000 - val_mae: 81198.6484\n",
      "Epoch 17/50\n",
      "105/105 [==============================] - 0s 2ms/step - loss: 10280119296.0000 - mae: 81635.8125 - val_loss: 10167002112.0000 - val_mae: 81175.2500\n",
      "Epoch 18/50\n",
      "105/105 [==============================] - 0s 2ms/step - loss: 10285442048.0000 - mae: 81685.5938 - val_loss: 10163761152.0000 - val_mae: 81183.3594\n",
      "Epoch 19/50\n",
      "105/105 [==============================] - 0s 2ms/step - loss: 10287502336.0000 - mae: 81670.4766 - val_loss: 10164491264.0000 - val_mae: 81192.2500\n",
      "Epoch 20/50\n",
      "105/105 [==============================] - 0s 2ms/step - loss: 10285219840.0000 - mae: 81665.2969 - val_loss: 10173606912.0000 - val_mae: 81240.6562\n",
      "Epoch 21/50\n",
      "105/105 [==============================] - 0s 2ms/step - loss: 10287630336.0000 - mae: 81601.8750 - val_loss: 10152553472.0000 - val_mae: 81128.0312\n",
      "Epoch 22/50\n",
      "105/105 [==============================] - 0s 2ms/step - loss: 10284268544.0000 - mae: 81631.5234 - val_loss: 10165105664.0000 - val_mae: 81213.7422\n",
      "Epoch 23/50\n",
      "105/105 [==============================] - 0s 3ms/step - loss: 10295369728.0000 - mae: 81657.9219 - val_loss: 10162263040.0000 - val_mae: 81183.8203\n",
      "Epoch 24/50\n",
      "105/105 [==============================] - 0s 3ms/step - loss: 10287078400.0000 - mae: 81647.6406 - val_loss: 10162296832.0000 - val_mae: 81166.5781\n",
      "Epoch 25/50\n",
      "105/105 [==============================] - 0s 2ms/step - loss: 10281787392.0000 - mae: 81644.8203 - val_loss: 10166226944.0000 - val_mae: 81185.9844\n",
      "Epoch 26/50\n",
      "105/105 [==============================] - 0s 3ms/step - loss: 10283815936.0000 - mae: 81599.5000 - val_loss: 10172877824.0000 - val_mae: 81208.1250\n",
      "Epoch 27/50\n",
      "105/105 [==============================] - 0s 2ms/step - loss: 10287724544.0000 - mae: 81614.3672 - val_loss: 10161566720.0000 - val_mae: 81153.2969\n",
      "Epoch 28/50\n",
      "105/105 [==============================] - 0s 3ms/step - loss: 10283201536.0000 - mae: 81672.9531 - val_loss: 10160270336.0000 - val_mae: 81166.7344\n",
      "Epoch 29/50\n",
      "105/105 [==============================] - 0s 3ms/step - loss: 10285212672.0000 - mae: 81630.4844 - val_loss: 10177246208.0000 - val_mae: 81260.0156\n",
      "Epoch 30/50\n",
      "105/105 [==============================] - 0s 3ms/step - loss: 10287470592.0000 - mae: 81625.3125 - val_loss: 10162000896.0000 - val_mae: 81157.7266\n",
      "Epoch 31/50\n",
      "105/105 [==============================] - 0s 3ms/step - loss: 10284742656.0000 - mae: 81635.8516 - val_loss: 10173299712.0000 - val_mae: 81214.3359\n",
      "Epoch 32/50\n",
      "105/105 [==============================] - 0s 3ms/step - loss: 10280553472.0000 - mae: 81634.7031 - val_loss: 10183956480.0000 - val_mae: 81249.4375\n",
      "Epoch 33/50\n",
      "105/105 [==============================] - 0s 2ms/step - loss: 10294121472.0000 - mae: 81622.8906 - val_loss: 10173544448.0000 - val_mae: 81198.8438\n",
      "Epoch 34/50\n",
      "105/105 [==============================] - 0s 3ms/step - loss: 10288272384.0000 - mae: 81593.1250 - val_loss: 10160400384.0000 - val_mae: 81132.0469\n",
      "Epoch 35/50\n",
      "105/105 [==============================] - 0s 2ms/step - loss: 10285289472.0000 - mae: 81630.8750 - val_loss: 10160338944.0000 - val_mae: 81156.6250\n",
      "Epoch 36/50\n",
      "105/105 [==============================] - 0s 2ms/step - loss: 10289461248.0000 - mae: 81613.4219 - val_loss: 10153899008.0000 - val_mae: 81156.3594\n",
      "Epoch 37/50\n",
      "105/105 [==============================] - 0s 2ms/step - loss: 10298896384.0000 - mae: 81759.4531 - val_loss: 10150938624.0000 - val_mae: 81136.7578\n",
      "Epoch 38/50\n",
      "105/105 [==============================] - 0s 3ms/step - loss: 10283990016.0000 - mae: 81642.3750 - val_loss: 10147008512.0000 - val_mae: 81108.5469\n",
      "Epoch 39/50\n",
      "105/105 [==============================] - 0s 3ms/step - loss: 10279943168.0000 - mae: 81618.8672 - val_loss: 10138596352.0000 - val_mae: 81072.7578\n",
      "Epoch 40/50\n",
      "105/105 [==============================] - 0s 2ms/step - loss: 10280614912.0000 - mae: 81605.9453 - val_loss: 10173834240.0000 - val_mae: 81224.4531\n",
      "Epoch 41/50\n",
      "105/105 [==============================] - 0s 3ms/step - loss: 10278516736.0000 - mae: 81602.3047 - val_loss: 10163044352.0000 - val_mae: 81160.4922\n",
      "Epoch 42/50\n",
      "105/105 [==============================] - 0s 2ms/step - loss: 10286540800.0000 - mae: 81646.0547 - val_loss: 10156404736.0000 - val_mae: 81150.0156\n",
      "Epoch 43/50\n",
      "105/105 [==============================] - 0s 3ms/step - loss: 10299192320.0000 - mae: 81652.2109 - val_loss: 10162141184.0000 - val_mae: 81166.2891\n",
      "Epoch 44/50\n",
      "105/105 [==============================] - 0s 3ms/step - loss: 10288601088.0000 - mae: 81689.5156 - val_loss: 10151552000.0000 - val_mae: 81131.1328\n",
      "Epoch 45/50\n",
      "105/105 [==============================] - 0s 2ms/step - loss: 10292685824.0000 - mae: 81628.1016 - val_loss: 10172835840.0000 - val_mae: 81224.7344\n",
      "Epoch 46/50\n",
      "105/105 [==============================] - 0s 2ms/step - loss: 10284254208.0000 - mae: 81650.6641 - val_loss: 10152230912.0000 - val_mae: 81125.0156\n",
      "Epoch 47/50\n",
      "105/105 [==============================] - 0s 3ms/step - loss: 10285607936.0000 - mae: 81635.9609 - val_loss: 10168499200.0000 - val_mae: 81213.6797\n",
      "Epoch 48/50\n",
      "105/105 [==============================] - 0s 2ms/step - loss: 10303873024.0000 - mae: 81748.6250 - val_loss: 10162647040.0000 - val_mae: 81172.2266\n",
      "Epoch 49/50\n",
      "105/105 [==============================] - 0s 3ms/step - loss: 10287865856.0000 - mae: 81656.5938 - val_loss: 10176715776.0000 - val_mae: 81210.3125\n",
      "Epoch 50/50\n",
      "105/105 [==============================] - 0s 2ms/step - loss: 10279997440.0000 - mae: 81619.6172 - val_loss: 10157425664.0000 - val_mae: 81170.4062\n"
     ]
    }
   ],
   "source": [
    "r=model.fit(X_train,Y_train,validation_data=(X_test,Y_test),epochs=50)"
   ]
  },
  {
   "cell_type": "code",
   "execution_count": 47,
   "id": "6b6d5b2a",
   "metadata": {},
   "outputs": [
    {
     "data": {
      "text/plain": [
       "LinearRegression()"
      ]
     },
     "execution_count": 47,
     "metadata": {},
     "output_type": "execute_result"
    }
   ],
   "source": [
    "from sklearn.linear_model import LinearRegression \n",
    "\n",
    "lm = LinearRegression() \n",
    "\n",
    "lm.fit(X_train,Y_train) "
   ]
  },
  {
   "cell_type": "code",
   "execution_count": 48,
   "id": "71a16da7",
   "metadata": {},
   "outputs": [],
   "source": [
    "predictions = lm.predict(X_test)  "
   ]
  },
  {
   "cell_type": "code",
   "execution_count": 50,
   "id": "09b3d1f0",
   "metadata": {},
   "outputs": [
    {
     "data": {
      "text/plain": [
       "<matplotlib.collections.PathCollection at 0x1fb06ddadf0>"
      ]
     },
     "execution_count": 50,
     "metadata": {},
     "output_type": "execute_result"
    },
    {
     "data": {
      "image/png": "[encoded data removed]",
      "text/plain": [
       "<Figure size 432x288 with 1 Axes>"
      ]
     },
     "metadata": {
      "needs_background": "light"
     },
     "output_type": "display_data"
    }
   ],
   "source": [
    "import matplotlib.pyplot as plt\n",
    "plt.scatter(Y_test,predictions)"
   ]
  },
  {
   "cell_type": "code",
   "execution_count": null,
   "id": "f88b26ac",
   "metadata": {},
   "outputs": [],
   "source": []
  },
  {
   "cell_type": "code",
   "execution_count": null,
   "id": "eafb28e4",
   "metadata": {},
   "outputs": [],
   "source": []
  }
 ],
 "metadata": {
  "kernelspec": {
   "display_name": "Python 3 (ipykernel)",
   "language": "python",
   "name": "python3"
  },
  "language_info": {
   "codemirror_mode": {
    "name": "ipython",
    "version": 3
   },
   "file_extension": ".py",
   "mimetype": "text/x-python",
   "name": "python",
   "nbconvert_exporter": "python",
   "pygments_lexer": "ipython3",
   "version": "3.9.12"
  }
 },
 "nbformat": 4,
 "nbformat_minor": 5
}
